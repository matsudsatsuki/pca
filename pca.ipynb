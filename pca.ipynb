{
 "cells": [
  {
   "cell_type": "code",
   "execution_count": null,
   "source": [
    "import numpy as np\n",
    "import pandas as pd\n",
    "import matplotlib.pyplot as plt\n",
    "import seaborn as sns\n",
    "import pandas_profiling as pp\n",
    "import dtale\n",
    "from autoviz.AutoViz_Class import AutoViz_Class\n",
    "import sweetviz as sv\n",
    "%matplotlib inline\n"
   ],
   "outputs": [],
   "metadata": {}
  },
  {
   "cell_type": "code",
   "execution_count": null,
   "source": [
    "df = pd.read_csv('Pokemon.csv')\n",
    "#autoviz = AutoViz_Class().AutoViz('Pokemon.csv')\n",
    "sweet_report = sv.analyze(df)\n",
    "sweet_report.show_notebook()"
   ],
   "outputs": [],
   "metadata": {}
  },
  {
   "cell_type": "code",
   "execution_count": null,
   "source": [
    "df['Legendary'] = df['Legendary'].astype(int)\n",
    "df.head()"
   ],
   "outputs": [],
   "metadata": {}
  },
  {
   "cell_type": "code",
   "execution_count": null,
   "source": [
    "fig, ax = plt.subplots(figsize=(12,8))\n",
    "df.plot(kind='scatter', x = 'HP',y = 'Attack',s = 100,\n",
    "c = 'Legendary',cmap='winter',alpha = 0.5,ax = ax)"
   ],
   "outputs": [],
   "metadata": {}
  },
  {
   "cell_type": "code",
   "execution_count": null,
   "source": [
    "df.loc[:,'HP':'Speed'].corr()"
   ],
   "outputs": [],
   "metadata": {}
  },
  {
   "cell_type": "code",
   "execution_count": null,
   "source": [
    "sns.pairplot(df.loc[:,'HP':'Speed'])"
   ],
   "outputs": [],
   "metadata": {}
  },
  {
   "cell_type": "code",
   "execution_count": null,
   "source": [
    "from sklearn.decomposition import PCA"
   ],
   "outputs": [],
   "metadata": {}
  },
  {
   "cell_type": "code",
   "execution_count": null,
   "source": [
    "pca = PCA()\n",
    "x_pca = pca.fit_transform(df.loc[:,'HP':'Speed'])\n",
    "df_pca = pd.DataFrame(x_pca,columns=['1st','2nd','3rd','4th','5th','6th'])\n",
    "df_pca.head()"
   ],
   "outputs": [],
   "metadata": {}
  },
  {
   "cell_type": "code",
   "execution_count": null,
   "source": [
    "pca.explained_variance_ratio_#寄与率\n",
    "#上位３つの変数で寄与率８割を占めているということは図示できる"
   ],
   "outputs": [],
   "metadata": {}
  },
  {
   "cell_type": "code",
   "execution_count": null,
   "source": [
    "plt.figure(figsize=(12,8))\n",
    "plt.plot(np.hstack([0,pca.explained_variance_ratio_.cumsum()]))#0から\n",
    "plt.xlabel('n_components',fontsize=15)\n",
    "plt.ylabel('explained_variance_ratio_',fontsize=15)\n",
    "plt.show"
   ],
   "outputs": [],
   "metadata": {}
  },
  {
   "cell_type": "code",
   "execution_count": null,
   "source": [
    "pca.explained_variance_ratio_.cumsum()#累積和"
   ],
   "outputs": [],
   "metadata": {}
  },
  {
   "cell_type": "code",
   "execution_count": null,
   "source": [
    "pca.components_#主成分負荷量　主成分得点と観測変数との相関係数のこと"
   ],
   "outputs": [],
   "metadata": {}
  },
  {
   "cell_type": "code",
   "execution_count": null,
   "source": [
    "plt.figure(figsize=(12,8))\n",
    "sns.heatmap(pca.components_,\n",
    "cmap='Blues',\n",
    "annot=True,annot_kws={'size':20},\n",
    "fmt = '1.1f',\n",
    "xticklabels=df.loc[:,'HP':'Speed'].columns,\n",
    "yticklabels=['1st','2nd','3rd','4th','5th','6th'])"
   ],
   "outputs": [],
   "metadata": {}
  },
  {
   "cell_type": "code",
   "execution_count": null,
   "source": [
    "df_pca['Legendary'] = df['Legendary']\n",
    "\n",
    "fig,ax = plt.subplots(figsize=(12,8))\n",
    "df_pca.plot(kind='scatter',\n",
    "x='1st',\n",
    "y='2nd',\n",
    "s=100,\n",
    "c='Legendary',\n",
    "cmap='winter',\n",
    "alpha=0.5,\n",
    "ax=ax)"
   ],
   "outputs": [],
   "metadata": {}
  },
  {
   "cell_type": "code",
   "execution_count": null,
   "source": [
    "#特徴量抽出\n",
    "df1 = pd.read_csv('train.csv')\n",
    "df1.head()"
   ],
   "outputs": [],
   "metadata": {}
  },
  {
   "cell_type": "code",
   "execution_count": null,
   "source": [
    "df1.shape"
   ],
   "outputs": [],
   "metadata": {}
  },
  {
   "cell_type": "code",
   "execution_count": null,
   "source": [
    "df1.isnull().sum()[df1.isnull().sum()>0]"
   ],
   "outputs": [],
   "metadata": {}
  },
  {
   "cell_type": "code",
   "execution_count": null,
   "source": [
    "print('before:', df.shape)\n",
    "df1 = df1.drop(columns=['LotFrontage','Alley','FireplaceQu','PoolQC','Fence','MiscFeature'])\n",
    "print('after:',df1.shape)"
   ],
   "outputs": [],
   "metadata": {}
  },
  {
   "cell_type": "code",
   "execution_count": null,
   "source": [
    "df1.dtypes.value_counts()"
   ],
   "outputs": [],
   "metadata": {}
  },
  {
   "cell_type": "code",
   "execution_count": null,
   "source": [
    "all_columns = df1.columns.values\n",
    "non_cat_cols = [\"LotFrontage\", \"LotArea\", \"MasVnrArea\", \"BsmtFinSF1\", \n",
    "                \"BsmtFinSF2\", \"BsmtUnfSF\", \"TotalBsmtSF\", \"1stFlrSF\", \n",
    "                \"2ndFlrSF\", \"LowQualFinSF\", \"GrLivArea\", \"GarageArea\", \n",
    "                \"WoodDeckSF\", \"OpenPorchSF\", \"EnclosedPorch\", \"3SsnPorch\", \n",
    "                \"ScreenPorch\",\"PoolArea\", \"MiscVal\"]\n",
    "\n",
    "cat_cols = [col for col in all_columns if col not in non_cat_cols]\n"
   ],
   "outputs": [],
   "metadata": {}
  },
  {
   "cell_type": "code",
   "execution_count": null,
   "source": [
    "nan_cols = df1.isnull().sum()[df1.isnull().sum() > 0].index\n",
    "for col in nan_cols:\n",
    "    if col in non_cat_cols:\n",
    "        df1[col] = df1[col].fillna(df1[col].median())\n",
    "    else:\n",
    "        df1[col] = df1[col].fillna(df1[col].mode()[0])\n",
    "df1 = pd.get_dummies(df1)\n",
    "df1"
   ],
   "outputs": [],
   "metadata": {}
  },
  {
   "cell_type": "code",
   "execution_count": null,
   "source": [
    "X = df1.drop(columns=['Id','SalePrice'])\n",
    "y = df1['SalePrice']\n",
    "\n",
    "x = np.log1p(X)\n",
    "y = np.log1p(y)\n",
    "X[X == -np.inf] = 0\n",
    "x.shape\n"
   ],
   "outputs": [],
   "metadata": {}
  },
  {
   "cell_type": "code",
   "execution_count": null,
   "source": [
    "from sklearn.model_selection import train_test_split\n",
    "\n",
    "X_train,X_test,y_train,y_test = train_test_split(X,y,test_size=0.1,random_state=0)"
   ],
   "outputs": [],
   "metadata": {}
  },
  {
   "cell_type": "code",
   "execution_count": null,
   "source": [
    "pca = PCA()"
   ],
   "outputs": [],
   "metadata": {}
  },
  {
   "cell_type": "code",
   "execution_count": null,
   "source": [
    "X_train_pca = pca.fit_transform(X_train)\n",
    "X_test_pca = pca.fit_transform(X_test)\n",
    "\n",
    "pca.explained_variance_ratio_.cumsum()"
   ],
   "outputs": [],
   "metadata": {}
  },
  {
   "cell_type": "code",
   "execution_count": null,
   "source": [
    "plt.figure(figsize=(12,8))\n",
    "plt.plot(np.hstack([0,pca.explained_variance_ratio_.cumsum()]))#0から\n",
    "plt.xlabel('n_components',fontsize=15)\n",
    "plt.ylabel('explained_variance_ratio_',fontsize=15)\n",
    "plt.show"
   ],
   "outputs": [],
   "metadata": {}
  },
  {
   "cell_type": "code",
   "execution_count": null,
   "source": [
    "X_train_pca = X_train_pca[:,:8]\n",
    "X_test_pca = X_test_pca[:,:8]"
   ],
   "outputs": [],
   "metadata": {}
  },
  {
   "cell_type": "code",
   "execution_count": null,
   "source": [
    "from sklearn.ensemble import RandomForestRegressor\n",
    "from sklearn.model_selection import KFold,cross_val_score\n",
    "from sklearn.metrics import mean_absolute_error"
   ],
   "outputs": [],
   "metadata": {}
  },
  {
   "cell_type": "code",
   "execution_count": null,
   "source": [
    "%%time\n",
    "\n",
    "cv = KFold(n_splits=5,shuffle=True,random_state=0)\n",
    "rf_score = np.sqrt(-cross_val_score(RandomForestRegressor(n_estimators=500,max_depth=6),\n",
    "                                                X = X_train,\n",
    "                                                y = y_train,\n",
    "                                                cv = cv,\n",
    "                                                scoring = 'neg_mean_squared_error'))\n",
    "print(rf_score.mean())"
   ],
   "outputs": [],
   "metadata": {}
  },
  {
   "cell_type": "code",
   "execution_count": null,
   "source": [
    "%%time\n",
    "\n",
    "cv = KFold(n_splits=5,shuffle=True,random_state=0)\n",
    "rf_score_pca = np.sqrt(-cross_val_score(RandomForestRegressor(n_estimators=500,max_depth=6),\n",
    "                                                X = X_train_pca,\n",
    "                                                y = y_train,\n",
    "                                                cv = cv,\n",
    "                                                scoring = 'neg_mean_squared_error'))\n",
    "\n",
    "print(rf_score_pca.mean())"
   ],
   "outputs": [],
   "metadata": {}
  },
  {
   "cell_type": "code",
   "execution_count": null,
   "source": [
    "%%time\n",
    "from sklearn.model_selection import GridSearchCV\n",
    "\n",
    "rf_params_grid = {\n",
    "    'max_depth' : range(5,11)\n",
    "}\n",
    "\n",
    "rf_score = np.sqrt(-cross_val_score(GridSearchCV(RandomForestRegressor(n_estimators=500,max_depth=6),\n",
    "                                                param_grid=rf_params_grid,\n",
    "                                                cv=cv),\n",
    "                                                X = X_train_pca,\n",
    "                                                y = y_train,\n",
    "                                                cv = cv,\n",
    "                                                scoring = 'neg_mean_squared_error'))\n",
    "\n",
    "\n",
    "\n"
   ],
   "outputs": [],
   "metadata": {}
  },
  {
   "cell_type": "code",
   "execution_count": null,
   "source": [],
   "outputs": [],
   "metadata": {}
  }
 ],
 "metadata": {
  "orig_nbformat": 4,
  "language_info": {
   "name": "python",
   "version": "3.8.8",
   "mimetype": "text/x-python",
   "codemirror_mode": {
    "name": "ipython",
    "version": 3
   },
   "pygments_lexer": "ipython3",
   "nbconvert_exporter": "python",
   "file_extension": ".py"
  },
  "kernelspec": {
   "name": "python3",
   "display_name": "Python 3.8.8 64-bit ('base': conda)"
  },
  "interpreter": {
   "hash": "dca0ade3e726a953b501b15e8e990130d2b7799f14cfd9f4271676035ebe5511"
  }
 },
 "nbformat": 4,
 "nbformat_minor": 2
}